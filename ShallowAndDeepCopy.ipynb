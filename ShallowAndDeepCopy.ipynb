{
 "cells": [
  {
   "cell_type": "code",
   "execution_count": 1,
   "metadata": {},
   "outputs": [
    {
     "ename": "SyntaxError",
     "evalue": "invalid syntax (<ipython-input-1-440a26373ff6>, line 4)",
     "output_type": "error",
     "traceback": [
      "\u001b[1;36m  File \u001b[1;32m\"<ipython-input-1-440a26373ff6>\"\u001b[1;36m, line \u001b[1;32m4\u001b[0m\n\u001b[1;33m    9251744 9251744\u001b[0m\n\u001b[1;37m                  ^\u001b[0m\n\u001b[1;31mSyntaxError\u001b[0m\u001b[1;31m:\u001b[0m invalid syntax\n"
     ]
    }
   ],
   "source": [
    ">>> x = 3\n",
    ">>> y = x\n",
    ">>> print(id(x), id(y))\n",
    "9251744 9251744\n",
    ">>> y = 4\n",
    ">>> print(id(x), id(y))\n",
    "9251744 9251776\n",
    ">>> print(x,y)\n",
    "3 4\n",
    ">>> "
   ]
  },
  {
   "cell_type": "code",
   "execution_count": 2,
   "metadata": {},
   "outputs": [
    {
     "ename": "SyntaxError",
     "evalue": "invalid syntax (<ipython-input-2-b81dc93096ca>, line 8)",
     "output_type": "error",
     "traceback": [
      "\u001b[1;36m  File \u001b[1;32m\"<ipython-input-2-b81dc93096ca>\"\u001b[1;36m, line \u001b[1;32m8\u001b[0m\n\u001b[1;33m    43444416 43444416\u001b[0m\n\u001b[1;37m                    ^\u001b[0m\n\u001b[1;31mSyntaxError\u001b[0m\u001b[1;31m:\u001b[0m invalid syntax\n"
     ]
    }
   ],
   "source": [
    ">>> colours1 = [\"red\", \"blue\"]\n",
    ">>> colours2 = colours1\n",
    ">>> print(colours1)\n",
    "['red', 'blue']\n",
    ">>> print(colours2)\n",
    "['red', 'blue']\n",
    ">>> print(id(colours1),id(colours2))\n",
    "43444416 43444416\n",
    ">>> colours2 = [\"rouge\", \"vert\"]\n",
    ">>> print(colours1)\n",
    "['red', 'blue']\n",
    ">>> print(colours2)\n",
    "['rouge', 'vert']\n",
    ">>> print(id(colours1),id(colours2))\n",
    "43444416 43444200\n",
    ">>> "
   ]
  },
  {
   "cell_type": "code",
   "execution_count": 3,
   "metadata": {},
   "outputs": [
    {
     "ename": "SyntaxError",
     "evalue": "invalid syntax (<ipython-input-3-591ab45d7405>, line 4)",
     "output_type": "error",
     "traceback": [
      "\u001b[1;36m  File \u001b[1;32m\"<ipython-input-3-591ab45d7405>\"\u001b[1;36m, line \u001b[1;32m4\u001b[0m\n\u001b[1;33m    14603760 14603760\u001b[0m\n\u001b[1;37m                    ^\u001b[0m\n\u001b[1;31mSyntaxError\u001b[0m\u001b[1;31m:\u001b[0m invalid syntax\n"
     ]
    }
   ],
   "source": [
    ">>> colours1 = [\"red\", \"blue\"]\n",
    ">>> colours2 = colours1\n",
    ">>> print(id(colours1),id(colours2))\n",
    "14603760 14603760\n",
    ">>> colours2[1] = \"green\"\n",
    ">>> print(id(colours1),id(colours2))\n",
    "14603760 14603760\n",
    ">>> print(colours1)\n",
    "['red', 'green']\n",
    ">>> print(colours2)\n",
    "['red', 'green']\n",
    ">>> "
   ]
  },
  {
   "cell_type": "code",
   "execution_count": null,
   "metadata": {},
   "outputs": [],
   "source": [
    ">>> list1 = ['a','b','c','d']\n",
    ">>> list2 = list1[:]\n",
    ">>> list2[1] = 'x'\n",
    ">>> print(list2)\n",
    "['a', 'x', 'c', 'd']\n",
    ">>> print(list1)\n",
    "['a', 'b', 'c', 'd']\n",
    ">>> "
   ]
  },
  {
   "cell_type": "code",
   "execution_count": null,
   "metadata": {},
   "outputs": [],
   "source": [
    ">>> lst1 = ['a','b',['ab','ba']]\n",
    ">>> lst2 = lst1[:]\n",
    ">>> lst2[0] = 'c'\n",
    ">>> print(lst1)\n",
    "['a', 'b', ['ab', 'ba']]\n",
    ">>> print(lst2)\n",
    "['c', 'b', ['ab', 'ba']]"
   ]
  },
  {
   "cell_type": "code",
   "execution_count": null,
   "metadata": {},
   "outputs": [],
   "source": [
    ">>> lst2[2][1] = 'd'\n",
    ">>> print(lst1)\n",
    "['a', 'b', ['ab', 'd']]\n",
    ">>> print(lst2)\n",
    "['c', 'b', ['ab', 'd']]"
   ]
  },
  {
   "cell_type": "code",
   "execution_count": null,
   "metadata": {},
   "outputs": [],
   "source": [
    ">>> from copy import deepcopy\n",
    ">>> \n",
    ">>> lst1 = ['a','b',['ab','ba']]\n",
    ">>> \n",
    ">>> lst2 = deepcopy(lst1)\n",
    ">>> \n",
    ">>> lst1\n",
    "['a', 'b', ['ab', 'ba']]\n",
    ">>> lst2\n",
    "['a', 'b', ['ab', 'ba']]\n",
    ">>> id(lst1)\n",
    "139716507600200\n",
    ">>> id(lst2)\n",
    "139716507600904\n",
    ">>> id(lst1[0])\n",
    "139716538182096\n",
    ">>> id(lst2[0])\n",
    "139716538182096\n",
    ">>> id(lst2[2])\n",
    "139716507602632\n",
    ">>> id(lst1[2])\n",
    "139716507615880\n",
    ">>> "
   ]
  }
 ],
 "metadata": {
  "kernelspec": {
   "display_name": "Python 3",
   "language": "python",
   "name": "python3"
  },
  "language_info": {
   "codemirror_mode": {
    "name": "ipython",
    "version": 3
   },
   "file_extension": ".py",
   "mimetype": "text/x-python",
   "name": "python",
   "nbconvert_exporter": "python",
   "pygments_lexer": "ipython3",
   "version": "3.7.4"
  }
 },
 "nbformat": 4,
 "nbformat_minor": 2
}
