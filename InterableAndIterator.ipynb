{
 "cells": [
  {
   "cell_type": "code",
   "execution_count": 1,
   "metadata": {},
   "outputs": [
    {
     "name": "stdout",
     "output_type": "stream",
     "text": [
      "Berlin\n",
      "Vienna\n",
      "Zurich\n",
      "\n",
      "\n",
      "Python\n",
      "Perl\n",
      "Ruby\n",
      "\n",
      "\n",
      "I t e r a t i o n   i s   e a s y "
     ]
    }
   ],
   "source": [
    "for city in [\"Berlin\", \"Vienna\", \"Zurich\"]: \n",
    "    print(city) \n",
    "  \n",
    "print(\"\\n\") \n",
    "      \n",
    "for city in (\"Python\", \"Perl\", \"Ruby\"): \n",
    "    print(city) \n",
    "  \n",
    "print(\"\\n\") \n",
    "      \n",
    "for char in \"Iteration is easy\": \n",
    "    print(char, end = \" \") "
   ]
  },
  {
   "cell_type": "code",
   "execution_count": 2,
   "metadata": {},
   "outputs": [
    {
     "name": "stdout",
     "output_type": "stream",
     "text": [
      "Berlin\n",
      "Vienna\n",
      "Zurich\n"
     ]
    }
   ],
   "source": [
    "# list of cities \n",
    "cities = [\"Berlin\", \"Vienna\", \"Zurich\"] \n",
    "  \n",
    "# initialize the object \n",
    "iterator_obj = iter(cities) \n",
    "  \n",
    "print(next(iterator_obj)) \n",
    "print(next(iterator_obj)) \n",
    "print(next(iterator_obj)) "
   ]
  },
  {
   "cell_type": "code",
   "execution_count": 3,
   "metadata": {},
   "outputs": [
    {
     "name": "stdout",
     "output_type": "stream",
     "text": [
      "34  is iterable :  False\n",
      "[4, 5]  is iterable :  True\n",
      "(4, 5)  is iterable :  True\n",
      "{'a': 4}  is iterable :  True\n",
      "dfsdf  is iterable :  True\n",
      "4.5  is iterable :  False\n"
     ]
    }
   ],
   "source": [
    "# Function to check object \n",
    "# is iterable or not  \n",
    "def iterable(obj): \n",
    "    try: \n",
    "        iter(obj) \n",
    "        return True\n",
    "          \n",
    "    except TypeError: \n",
    "        return False\n",
    "  \n",
    "# Driver Code      \n",
    "for element in [34, [4, 5], (4, 5), \n",
    "             {\"a\":4}, \"dfsdf\", 4.5]: \n",
    "                   \n",
    "    print(element, \" is iterable : \", iterable(element)) \n"
   ]
  },
  {
   "cell_type": "code",
   "execution_count": 6,
   "metadata": {},
   "outputs": [
    {
     "name": "stdout",
     "output_type": "stream",
     "text": [
      "a\n",
      "e\n",
      "i\n",
      "o\n",
      "u\n"
     ]
    }
   ],
   "source": [
    "\n",
    "# Python code demonstrating \n",
    "# basic use of iter() \n",
    "listA = ['a','e','i','o','u'] \n",
    "  \n",
    "iter_listA = iter(listA) \n",
    "  \n",
    "try: \n",
    "    print( next(iter_listA))  \n",
    "    print( next(iter_listA))  \n",
    "    print( next(iter_listA))  \n",
    "    print( next(iter_listA))  \n",
    "    print( next(iter_listA)) \n",
    "    print( next(iter_listA)) #StopIteration error \n",
    "except: \n",
    "    pass"
   ]
  },
  {
   "cell_type": "code",
   "execution_count": 5,
   "metadata": {},
   "outputs": [
    {
     "name": "stdout",
     "output_type": "stream",
     "text": [
      "11\n",
      "22\n",
      "33\n",
      "44\n",
      "55\n"
     ]
    }
   ],
   "source": [
    "# Python code demonstrating \n",
    "# basic use of iter() \n",
    "lst = [11, 22, 33, 44, 55] \n",
    "  \n",
    "iter_lst = iter(lst) \n",
    "while True: \n",
    "    try: \n",
    "        print(iter_lst.__next__())  \n",
    "    except: \n",
    "        break"
   ]
  },
  {
   "cell_type": "code",
   "execution_count": 4,
   "metadata": {},
   "outputs": [
    {
     "name": "stdout",
     "output_type": "stream",
     "text": [
      "Cat\n",
      "Bat\n",
      "Sat\n",
      "Mat\n",
      " \n",
      "Throwing 'StopIterationError' I cannot count more.\n"
     ]
    }
   ],
   "source": [
    "# Python code demonstrating \n",
    "# basic use of iter() \n",
    "  \n",
    "listB = ['Cat', 'Bat', 'Sat', 'Mat'] \n",
    "  \n",
    "  \n",
    "iter_listB = listB.__iter__() \n",
    "  \n",
    "try: \n",
    "    print(iter_listB.__next__()) \n",
    "    print(iter_listB.__next__()) \n",
    "    print(iter_listB.__next__()) \n",
    "    print(iter_listB.__next__()) \n",
    "    print(iter_listB.__next__()) #StopIteration error \n",
    "except: \n",
    "    print(\" \\nThrowing 'StopIterationError'\", \n",
    "                     \"I cannot count more.\") \n"
   ]
  },
  {
   "cell_type": "code",
   "execution_count": null,
   "metadata": {},
   "outputs": [],
   "source": []
  }
 ],
 "metadata": {
  "kernelspec": {
   "display_name": "Python 3",
   "language": "python",
   "name": "python3"
  },
  "language_info": {
   "codemirror_mode": {
    "name": "ipython",
    "version": 3
   },
   "file_extension": ".py",
   "mimetype": "text/x-python",
   "name": "python",
   "nbconvert_exporter": "python",
   "pygments_lexer": "ipython3",
   "version": "3.7.4"
  }
 },
 "nbformat": 4,
 "nbformat_minor": 2
}
