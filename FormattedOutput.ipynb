{
 "cells": [
  {
   "cell_type": "code",
   "execution_count": null,
   "metadata": {},
   "outputs": [],
   "source": [
    ">>> print(\"%10.3e\"% (356.08977))\n",
    " 3.561e+02\n",
    ">>> print(\"%10.3E\"% (356.08977))\n",
    " 3.561E+02\n",
    ">>> print(\"%10o\"% (25))\n",
    "        31\n",
    ">>> print(\"%10.3o\"% (25))\n",
    "       031\n",
    ">>> print(\"%10.5o\"% (25))\n",
    "     00031\n",
    ">>> print(\"%5x\"% (47))\n",
    "   2f\n",
    ">>> print(\"%5.4x\"% (47))\n",
    " 002f\n",
    ">>> print(\"%5.4X\"% (47))\n",
    " 002F\n",
    ">>> print(\"Only one percentage sign: %% \" % ())\n",
    "Only one percentage sign: % \n",
    ">>> "
   ]
  },
  {
   "cell_type": "code",
   "execution_count": 6,
   "metadata": {},
   "outputs": [
    {
     "ename": "IndentationError",
     "evalue": "unexpected indent (<ipython-input-6-2b67f4db072b>, line 2)",
     "output_type": "error",
     "traceback": [
      "\u001b[1;36m  File \u001b[1;32m\"<ipython-input-6-2b67f4db072b>\"\u001b[1;36m, line \u001b[1;32m2\u001b[0m\n\u001b[1;33m    0X2F\u001b[0m\n\u001b[1;37m    ^\u001b[0m\n\u001b[1;31mIndentationError\u001b[0m\u001b[1;31m:\u001b[0m unexpected indent\n"
     ]
    }
   ],
   "source": [
    ">>> print(\"%#5X\"% (47))\n",
    " 0X2F\n",
    ">>> print(\"%5X\"% (47))\n",
    "   2F\n",
    ">>> print(\"%#5.4X\"% (47))\n",
    "0X002F\n",
    ">>> print(\"%#5o\"% (25))\n",
    " 0o31\n",
    ">>> print(\"%+d\"% (42))\n",
    "+42\n",
    ">>> print(\"% d\"% (42))\n",
    " 42\n",
    ">>> print(\"%+2d\"% (42))\n",
    "+42\n",
    ">>> print(\"% 2d\"% (42))\n",
    " 42\n",
    ">>> print(\"%2d\"% (42))\n",
    "42"
   ]
  },
  {
   "cell_type": "code",
   "execution_count": 5,
   "metadata": {},
   "outputs": [
    {
     "data": {
      "text/plain": [
       "'various precisions:   1.41 or  1.415'"
      ]
     },
     "execution_count": 5,
     "metadata": {},
     "output_type": "execute_result"
    }
   ],
   "source": [
    ">>> \"First argument: {0}, second one: {1}\".format(47,11) \n",
    "'First argument: 47, second one: 11'\n",
    ">>> \"Second argument: {1}, first one: {0}\".format(47,11) \n",
    "'Second argument: 11, first one: 47'\n",
    ">>> \"Second argument: {1:3d}, first one: {0:7.2f}\".format(47.42,11) \n",
    "'Second argument:  11, first one:   47.42'\n",
    ">>> \"First argument: {}, second one: {}\".format(47,11) \n",
    "'First argument: 47, second one: 11'\n",
    ">>> # arguments can be used more than once:\n",
    "... \n",
    ">>> \"various precisions: {0:6.2f} or {0:6.3f}\".format(1.4148) \n",
    "'various precisions:   1.41 or  1.415'\n",
    ">>> "
   ]
  },
  {
   "cell_type": "code",
   "execution_count": 7,
   "metadata": {},
   "outputs": [
    {
     "name": "stdout",
     "output_type": "stream",
     "text": [
      "Countries and their capitals:\n",
      "United States: Washington\n",
      "US: Washington\n",
      "Canada: Ottawa\n",
      "Germany: Berlin\n",
      "France: Paris\n",
      "England: London\n",
      "UK: London\n",
      "Switzerland: Bern\n",
      "Austria: Vienna\n",
      "Netherlands: Amsterdam\n"
     ]
    }
   ],
   "source": [
    "capital_country = {\"United States\" : \"Washington\", \n",
    "                   \"US\" : \"Washington\", \n",
    "                   \"Canada\" : \"Ottawa\",\n",
    "                   \"Germany\": \"Berlin\",\n",
    "                   \"France\" : \"Paris\",\n",
    "                   \"England\" : \"London\",\n",
    "                   \"UK\" : \"London\",\n",
    "                   \"Switzerland\" : \"Bern\",\n",
    "                   \"Austria\" : \"Vienna\",\n",
    "                   \"Netherlands\" : \"Amsterdam\"}\n",
    "\n",
    "print(\"Countries and their capitals:\")\n",
    "for c in capital_country:\n",
    "    format_string = c + \": {\" + c + \"}\" \n",
    "    print(format_string.format(**capital_country))"
   ]
  },
  {
   "cell_type": "code",
   "execution_count": 3,
   "metadata": {},
   "outputs": [
    {
     "ename": "SyntaxError",
     "evalue": "invalid syntax (<ipython-input-3-e431fd23d6ed>, line 3)",
     "output_type": "error",
     "traceback": [
      "\u001b[1;36m  File \u001b[1;32m\"<ipython-input-3-e431fd23d6ed>\"\u001b[1;36m, line \u001b[1;32m3\u001b[0m\n\u001b[1;33m    The value is 000378\u001b[0m\n\u001b[1;37m            ^\u001b[0m\n\u001b[1;31mSyntaxError\u001b[0m\u001b[1;31m:\u001b[0m invalid syntax\n"
     ]
    }
   ],
   "source": [
    ">>> x = 378\n",
    ">>> print(\"The value is {:06d}\".format(x))\n",
    "The value is 000378\n",
    ">>> x = -378\n",
    ">>> print(\"The value is {:06d}\".format(x))\n",
    "The value is -00378"
   ]
  },
  {
   "cell_type": "code",
   "execution_count": 8,
   "metadata": {},
   "outputs": [
    {
     "ename": "IndentationError",
     "evalue": "unexpected indent (<ipython-input-8-8f95551e58c7>, line 11)",
     "output_type": "error",
     "traceback": [
      "\u001b[1;36m  File \u001b[1;32m\"<ipython-input-8-8f95551e58c7>\"\u001b[1;36m, line \u001b[1;32m11\u001b[0m\n\u001b[1;33m    bread:\u001b[0m\n\u001b[1;37m    ^\u001b[0m\n\u001b[1;31mIndentationError\u001b[0m\u001b[1;31m:\u001b[0m unexpected indent\n"
     ]
    }
   ],
   "source": [
    ">>> price = 11.23\n",
    ">>> f\"Price in Euro: {price}\"\n",
    "'Price in Euro: 11.23'\n",
    ">>> f\"Price in Swiss Franks: {price * 1.086}\"\n",
    "'Price in Swiss Franks: 12.195780000000001'\n",
    ">>> f\"Price in Swiss Franks: {price * 1.086:5.2f}\"\n",
    "'Price in Swiss Franks: 12.20'\n",
    ">>> for article in [\"bread\", \"butter\", \"tea\"]:\n",
    "...     print(f\"{article:>10}:\")\n",
    "... \n",
    "     bread:\n",
    "    butter:\n",
    "       tea:"
   ]
  },
  {
   "cell_type": "code",
   "execution_count": 4,
   "metadata": {},
   "outputs": [
    {
     "ename": "SyntaxError",
     "evalue": "invalid syntax (<ipython-input-4-37e34a2a1910>, line 2)",
     "output_type": "error",
     "traceback": [
      "\u001b[1;36m  File \u001b[1;32m\"<ipython-input-4-37e34a2a1910>\"\u001b[1;36m, line \u001b[1;32m2\u001b[0m\n\u001b[1;33m    The value is 78,962,324,245\u001b[0m\n\u001b[1;37m            ^\u001b[0m\n\u001b[1;31mSyntaxError\u001b[0m\u001b[1;31m:\u001b[0m invalid syntax\n"
     ]
    }
   ],
   "source": [
    ">>> print(\"The value is {:,}\".format(x))\n",
    "The value is 78,962,324,245\n",
    ">>> print(\"The value is {0:6,d}\".format(x))\n",
    "The value is 5,897,653,423\n",
    ">>> x = 5897653423.89676\n",
    ">>> print(\"The value is {0:12,.3f}\".format(x))\n",
    "The value is 5,897,653,423.897"
   ]
  },
  {
   "cell_type": "code",
   "execution_count": 1,
   "metadata": {},
   "outputs": [
    {
     "name": "stdout",
     "output_type": "stream",
     "text": [
      "Countries and their capitals:\n",
      "United States: Washington\n",
      "US: Washington\n",
      "Canada: Ottawa\n",
      "Germany: Berlin\n",
      "France: Paris\n",
      "England: London\n",
      "UK: London\n",
      "Switzerland: Bern\n",
      "Austria: Vienna\n",
      "Netherlands: Amsterdam\n"
     ]
    }
   ],
   "source": [
    "capital_country = {\"United States\" : \"Washington\", \n",
    "                   \"US\" : \"Washington\", \n",
    "                   \"Canada\" : \"Ottawa\",\n",
    "                   \"Germany\": \"Berlin\",\n",
    "                   \"France\" : \"Paris\",\n",
    "                   \"England\" : \"London\",\n",
    "                   \"UK\" : \"London\",\n",
    "                   \"Switzerland\" : \"Bern\",\n",
    "                   \"Austria\" : \"Vienna\",\n",
    "                   \"Netherlands\" : \"Amsterdam\"}\n",
    "\n",
    "print(\"Countries and their capitals:\")\n",
    "for c in capital_country:\n",
    "    print(\"{country}: {capital}\".format(country=c, capital=capital_country[c]))"
   ]
  },
  {
   "cell_type": "code",
   "execution_count": null,
   "metadata": {},
   "outputs": [],
   "source": []
  }
 ],
 "metadata": {
  "kernelspec": {
   "display_name": "Python 3",
   "language": "python",
   "name": "python3"
  },
  "language_info": {
   "codemirror_mode": {
    "name": "ipython",
    "version": 3
   },
   "file_extension": ".py",
   "mimetype": "text/x-python",
   "name": "python",
   "nbconvert_exporter": "python",
   "pygments_lexer": "ipython3",
   "version": "3.7.4"
  }
 },
 "nbformat": 4,
 "nbformat_minor": 2
}
