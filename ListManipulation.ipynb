{
 "cells": [
  {
   "cell_type": "code",
   "execution_count": 8,
   "metadata": {},
   "outputs": [
    {
     "data": {
      "text/plain": [
       "'free'"
      ]
     },
     "execution_count": 8,
     "metadata": {},
     "output_type": "execute_result"
    }
   ],
   "source": [
    ">>> lst = [\"easy\", \"simple\", \"cheap\", \"free\"]\n",
    ">>> lst[-1]\n",
    "'free'\n",
    ">>> "
   ]
  },
  {
   "cell_type": "code",
   "execution_count": 7,
   "metadata": {},
   "outputs": [
    {
     "data": {
      "text/plain": [
       "[3, 5, 7, 42]"
      ]
     },
     "execution_count": 7,
     "metadata": {},
     "output_type": "execute_result"
    }
   ],
   "source": [
    ">>> lst = [3, 5, 7]\n",
    ">>> lst.append(42)\n",
    ">>> lst\n",
    "[3, 5, 7, 42]\n",
    ">>> "
   ]
  },
  {
   "cell_type": "code",
   "execution_count": 6,
   "metadata": {},
   "outputs": [
    {
     "name": "stdout",
     "output_type": "stream",
     "text": [
      "None\n"
     ]
    }
   ],
   "source": [
    ">>> lst = [3, 5, 7]\n",
    ">>> lst = lst.append(42)\n",
    ">>> print(lst)\n",
    "None\n",
    ">>> "
   ]
  },
  {
   "cell_type": "code",
   "execution_count": 5,
   "metadata": {},
   "outputs": [
    {
     "data": {
      "text/plain": [
       "['Linz', 'Vienna']"
      ]
     },
     "execution_count": 5,
     "metadata": {},
     "output_type": "execute_result"
    }
   ],
   "source": [
    ">>> cities = [\"Hamburg\", \"Linz\", \"Salzburg\", \"Vienna\"]\n",
    ">>> cities.pop(0)\n",
    "'Hamburg'\n",
    ">>> cities\n",
    "['Linz', 'Salzburg', 'Vienna']\n",
    ">>> cities.pop(1)\n",
    "'Salzburg'\n",
    ">>> cities\n",
    "['Linz', 'Vienna']\n",
    ">>> "
   ]
  },
  {
   "cell_type": "code",
   "execution_count": 4,
   "metadata": {},
   "outputs": [
    {
     "data": {
      "text/plain": [
       "['Amsterdam', 'The Hague']"
      ]
     },
     "execution_count": 4,
     "metadata": {},
     "output_type": "execute_result"
    }
   ],
   "source": [
    ">>> cities = [\"Amsterdam\", \"The Hague\", \"Strasbourg\"]\n",
    ">>> cities.pop()\n",
    "'Strasbourg'\n",
    ">>> cities\n",
    "['Amsterdam', 'The Hague']\n",
    ">>> "
   ]
  },
  {
   "cell_type": "code",
   "execution_count": 3,
   "metadata": {},
   "outputs": [
    {
     "data": {
      "text/plain": [
       "[42, 98, 77, [8, 69]]"
      ]
     },
     "execution_count": 3,
     "metadata": {},
     "output_type": "execute_result"
    }
   ],
   "source": [
    ">>> lst = [42,98,77]\n",
    ">>> lst2 = [8,69]\n",
    ">>> lst.append(lst2)\n",
    ">>> lst\n",
    "[42, 98, 77, [8, 69]]\n",
    ">>> "
   ]
  },
  {
   "cell_type": "code",
   "execution_count": 9,
   "metadata": {},
   "outputs": [
    {
     "data": {
      "text/plain": [
       "[42, 98, 77, 8, 69]"
      ]
     },
     "execution_count": 9,
     "metadata": {},
     "output_type": "execute_result"
    }
   ],
   "source": [
    ">>> lst = [42,98,77]\n",
    ">>> lst2 = [8,69]\n",
    ">>> lst.extend(lst2)\n",
    ">>> lst\n",
    "[42, 98, 77, 8, 69]\n",
    ">>> "
   ]
  },
  {
   "cell_type": "code",
   "execution_count": 10,
   "metadata": {},
   "outputs": [
    {
     "name": "stdout",
     "output_type": "stream",
     "text": [
      "['a', 'b', 'c', 'P', 'y', 't', 'h', 'o', 'n']\n"
     ]
    },
    {
     "data": {
      "text/plain": [
       "['a', 'b', 'c', 'P', 'y', 't', 'h', 'o', 'n']"
      ]
     },
     "execution_count": 10,
     "metadata": {},
     "output_type": "execute_result"
    }
   ],
   "source": [
    ">>> lst = [\"a\", \"b\", \"c\"]\n",
    ">>> programming_language = \"Python\"\n",
    ">>> lst.extend(programming_language)\n",
    ">>> print(lst)\n",
    "['a', 'b', 'c', 'P', 'y', 't', 'h', 'o', 'n']"
   ]
  },
  {
   "cell_type": "code",
   "execution_count": 11,
   "metadata": {},
   "outputs": [
    {
     "data": {
      "text/plain": [
       "['Java', 'C', 'PHP', 'C#', 'Jython', 'Python', 'IronPython']"
      ]
     },
     "execution_count": 11,
     "metadata": {},
     "output_type": "execute_result"
    }
   ],
   "source": [
    ">>> lst = [\"Java\", \"C\", \"PHP\"]\n",
    ">>> t = (\"C#\", \"Jython\", \"Python\", \"IronPython\")\n",
    ">>> lst.extend(t)\n",
    ">>> lst\n",
    "['Java', 'C', 'PHP', 'C#', 'Jython', 'Python', 'IronPython']\n",
    ">>> "
   ]
  },
  {
   "cell_type": "code",
   "execution_count": 12,
   "metadata": {},
   "outputs": [
    {
     "data": {
      "text/plain": [
       "['beginner', 'intermediate', 'advanced', 'novice', 'expert']"
      ]
     },
     "execution_count": 12,
     "metadata": {},
     "output_type": "execute_result"
    }
   ],
   "source": [
    ">>> level = [\"beginner\", \"intermediate\", \"advanced\"]\n",
    ">>> other_words = [\"novice\", \"expert\"]\n",
    ">>> level + other_words\n",
    "['beginner', 'intermediate', 'advanced', 'novice', 'expert']\n",
    ">>> "
   ]
  },
  {
   "cell_type": "code",
   "execution_count": 13,
   "metadata": {},
   "outputs": [
    {
     "data": {
      "text/plain": [
       "[3, 4, 42]"
      ]
     },
     "execution_count": 13,
     "metadata": {},
     "output_type": "execute_result"
    }
   ],
   "source": [
    ">>> L = [3, 4]\n",
    ">>> L = L + [42]\n",
    ">>> L\n",
    "[3, 4, 42]\n",
    ">>> "
   ]
  },
  {
   "cell_type": "code",
   "execution_count": 14,
   "metadata": {},
   "outputs": [
    {
     "data": {
      "text/plain": [
       "[3, 4, 42]"
      ]
     },
     "execution_count": 14,
     "metadata": {},
     "output_type": "execute_result"
    }
   ],
   "source": [
    ">>> L = [3, 4]\n",
    ">>> L.append(42)\n",
    ">>> L\n",
    "[3, 4, 42]\n",
    ">>> \n",
    ">>> \n",
    ">>> L = [3, 4]\n",
    ">>> L.extend([42])\n",
    ">>> L\n",
    "[3, 4, 42]\n",
    ">>> "
   ]
  },
  {
   "cell_type": "code",
   "execution_count": 16,
   "metadata": {},
   "outputs": [
    {
     "data": {
      "text/plain": [
       "[3, 4, 42]"
      ]
     },
     "execution_count": 16,
     "metadata": {},
     "output_type": "execute_result"
    }
   ],
   "source": [
    ">>> L = [3, 4]\n",
    ">>> L += [42]\n",
    ">>> L\n",
    "[3, 4, 42]"
   ]
  },
  {
   "cell_type": "code",
   "execution_count": null,
   "metadata": {},
   "outputs": [],
   "source": [
    "import time\n",
    "\n",
    "n= 100000\n",
    "\n",
    "start_time = time.time()\n",
    "l = []\n",
    "for i in range(n):\n",
    "    l = l + [i * 2]\n",
    "print(time.time() - start_time)\n",
    "\n",
    "start_time = time.time()\n",
    "l = []\n",
    "for i in range(n):\n",
    "    l += [i * 2]\n",
    "print(time.time() - start_time)\n",
    "\n",
    "start_time = time.time()\n",
    "l = []\n",
    "for i in range(n):\n",
    "    l.append(i * 2)\n",
    "print(time.time() - start_time)"
   ]
  },
  {
   "cell_type": "code",
   "execution_count": null,
   "metadata": {},
   "outputs": [],
   "source": [
    "import time\n",
    "\n",
    "n= 100000\n",
    "\n",
    "start_time = time.time()\n",
    "l = []\n",
    "for i in range(n):\n",
    "    l = l + [i * 2]\n",
    "print(time.time() - start_time)\n",
    "\n",
    "start_time = time.time()\n",
    "l = []\n",
    "for i in range(n):\n",
    "    l += [i * 2]\n",
    "print(time.time() - start_time)\n",
    "\n",
    "start_time = time.time()\n",
    "l = []\n",
    "for i in range(n):\n",
    "    l.append(i * 2)\n",
    "print(time.time() - start_time)"
   ]
  },
  {
   "cell_type": "code",
   "execution_count": null,
   "metadata": {},
   "outputs": [],
   "source": []
  }
 ],
 "metadata": {
  "kernelspec": {
   "display_name": "Python 3",
   "language": "python",
   "name": "python3"
  },
  "language_info": {
   "codemirror_mode": {
    "name": "ipython",
    "version": 3
   },
   "file_extension": ".py",
   "mimetype": "text/x-python",
   "name": "python",
   "nbconvert_exporter": "python",
   "pygments_lexer": "ipython3",
   "version": "3.7.4"
  }
 },
 "nbformat": 4,
 "nbformat_minor": 2
}
