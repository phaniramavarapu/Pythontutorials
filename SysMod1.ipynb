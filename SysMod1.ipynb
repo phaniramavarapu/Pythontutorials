{
 "cells": [
  {
   "cell_type": "code",
   "execution_count": 1,
   "metadata": {},
   "outputs": [
    {
     "data": {
      "text/plain": [
       "(2, 6, 5, 'final', 0)"
      ]
     },
     "execution_count": 1,
     "metadata": {},
     "output_type": "execute_result"
    }
   ],
   "source": [
    ">>> import sys\n",
    ">>> sys.version\n",
    "'2.6.5 (r265:79063, Apr 16 2010, 13:57:41) \\n[GCC 4.4.3]'\n",
    ">>> sys.version_info\n",
    "(2, 6, 5, 'final', 0)"
   ]
  },
  {
   "cell_type": "code",
   "execution_count": null,
   "metadata": {},
   "outputs": [],
   "source": [
    "#!/usr/bin/python\n",
    "\n",
    "import sys\n",
    "\n",
    "# it's easy to print this list of course:\n",
    "print sys.argv\n",
    "\n",
    "# or it can be iterated via a for loop:\n",
    "\n",
    "for i in range(len(sys.argv)):\n",
    "    if i == 0:\n",
    "        print \"Function name: %s\" % sys.argv[0]\n",
    "    else:\n",
    "        print \"%d. argument: %s\" % (i,sys.argv[i])"
   ]
  },
  {
   "cell_type": "code",
   "execution_count": null,
   "metadata": {},
   "outputs": [],
   "source": [
    "$ python arguments.py arg1 arg2\n",
    "['arguments.py', 'arg1', 'arg2']\n",
    "Function name: arguments.py\n",
    "1. argument: arg1\n",
    "2. argument: arg2"
   ]
  },
  {
   "cell_type": "code",
   "execution_count": null,
   "metadata": {},
   "outputs": [],
   "source": [
    ">>> import sys\n",
    ">>> x = 42\n",
    ">>> x\n",
    "42\n",
    ">>> import sys\n",
    ">>> def my_display(x):\n",
    "...     print \"out: \",\n",
    "...     print x\n",
    "... \n",
    ">>> sys.displayhook = my_display\n",
    ">>> x\n",
    "out:  42\n",
    ">>> \n",
    ">>> print x\n",
    "42"
   ]
  },
  {
   "cell_type": "code",
   "execution_count": null,
   "metadata": {},
   "outputs": [],
   "source": [
    ">>> import sys\n",
    ">>> print \"Going via stdout\"\n",
    "Going via stdout\n",
    ">>> sys.stdout.write(\"Another way to do it!\\n\")\n",
    "Another way to do it!\n",
    ">>> x = raw_input(\"read value via stdin: \")\n",
    "read value via stdin: 42\n",
    ">>> print x\n",
    "42\n",
    ">>> print \"type in value: \", ; sys.stdin.readline()[:-1]\n",
    "type in value: 42\n",
    "\n",
    "'42'\n",
    ">>> "
   ]
  },
  {
   "cell_type": "code",
   "execution_count": null,
   "metadata": {},
   "outputs": [],
   "source": [
    "import sys\n",
    "\n",
    "while True:\n",
    "  # output to stdout:\n",
    "  print \"Yet another iteration ...\"\n",
    "  try:\n",
    "    # reading from sys.stdin (stop with Ctrl-D):\n",
    "    number = raw_input(\"Enter a number: \")\n",
    "  except EOFError:\n",
    "    print \"\\nciao\"\n",
    "    break\n",
    "  else:\n",
    "    number = int(number)\n",
    "    if number == 0:\n",
    "      print >> sys.stderr, \"0 has no inverse\"\n",
    "    else:\n",
    "      print \"inverse of %d is %f\" % (number, 1.0/number) "
   ]
  },
  {
   "cell_type": "code",
   "execution_count": null,
   "metadata": {},
   "outputs": [],
   "source": [
    "import sys\n",
    "\n",
    "print(\"Coming through stdout\")\n",
    "\n",
    "# stdout is saved\n",
    "save_stdout = sys.stdout\n",
    "\n",
    "fh = open(\"test.txt\",\"w\")\n",
    "\n",
    "sys.stdout = fh\n",
    "print(\"This line goes to test.txt\")\n",
    "\n",
    "# return to normal:\n",
    "sys.stdout = save_stdout\n",
    "\n",
    "fh.close()"
   ]
  },
  {
   "cell_type": "code",
   "execution_count": null,
   "metadata": {},
   "outputs": [],
   "source": [
    "import sys\n",
    "\n",
    "save_stderr = sys.stderr\n",
    "fh = open(\"errors.txt\",\"w\")\n",
    "sys.stderr = fh\n",
    "\n",
    "x = 10 / 0\n",
    "\n",
    "# return to normal:\n",
    "sys.stderr = save_stderr\n",
    "\n",
    "fh.close()"
   ]
  }
 ],
 "metadata": {
  "kernelspec": {
   "display_name": "Python 3",
   "language": "python",
   "name": "python3"
  },
  "language_info": {
   "codemirror_mode": {
    "name": "ipython",
    "version": 3
   },
   "file_extension": ".py",
   "mimetype": "text/x-python",
   "name": "python",
   "nbconvert_exporter": "python",
   "pygments_lexer": "ipython3",
   "version": "3.7.4"
  }
 },
 "nbformat": 4,
 "nbformat_minor": 2
}
