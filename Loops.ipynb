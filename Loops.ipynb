{
 "cells": [
  {
   "cell_type": "code",
   "execution_count": 1,
   "metadata": {},
   "outputs": [
    {
     "name": "stdout",
     "output_type": "stream",
     "text": [
      "Hello Geek\n",
      "Hello Geek\n",
      "Hello Geek\n",
      "In Else Block\n"
     ]
    }
   ],
   "source": [
    "\n",
    "#Python program to illustrate \n",
    "# combining else with while \n",
    "count = 0\n",
    "while (count < 3):     \n",
    "    count = count + 1\n",
    "    print(\"Hello Geek\") \n",
    "else: \n",
    "    print(\"In Else Block\") "
   ]
  },
  {
   "cell_type": "code",
   "execution_count": null,
   "metadata": {},
   "outputs": [],
   "source": [
    "# Python program to illustrate \n",
    "# Iterating over a list \n",
    "print(\"List Iteration\") \n",
    "l = [\"geeks\", \"for\", \"geeks\"] \n",
    "for i in l: \n",
    "    print(i) \n",
    "       \n",
    "# Iterating over a tuple (immutable) \n",
    "print(\"\\nTuple Iteration\") \n",
    "t = (\"geeks\", \"for\", \"geeks\") \n",
    "for i in t: \n",
    "    print(i) \n",
    "       \n",
    "# Iterating over a String \n",
    "print(\"\\nString Iteration\")     \n",
    "s = \"Geeks\"\n",
    "for i in s : \n",
    "    print(i) \n",
    "       \n",
    "# Iterating over dictionary \n",
    "print(\"\\nDictionary Iteration\")    \n",
    "d = dict()  \n",
    "d['xyz'] = 123\n",
    "d['abc'] = 345\n",
    "for i in d : \n",
    "    print(\"%s  %d\" %(i, d[i])) "
   ]
  },
  {
   "cell_type": "code",
   "execution_count": null,
   "metadata": {},
   "outputs": [],
   "source": [
    "# Python program to illustrate  \n",
    "# nested for loops in Python \n",
    "from __future__ import print_function \n",
    "for i in range(1, 5): \n",
    "    for j in range(i): \n",
    "         print(i, end=' ') \n",
    "    print() "
   ]
  },
  {
   "cell_type": "code",
   "execution_count": null,
   "metadata": {},
   "outputs": [],
   "source": [
    "\n",
    "# Prints all letters except 'e' and 's' \n",
    "for letter in 'geeksforgeeks':  \n",
    "    if letter == 'e' or letter == 's': \n",
    "         continue\n",
    "    print 'Current Letter :', letter \n",
    "    var = 10"
   ]
  },
  {
   "cell_type": "code",
   "execution_count": null,
   "metadata": {},
   "outputs": [],
   "source": [
    "\n",
    "for letter in 'geeksforgeeks':  \n",
    "  \n",
    "    # break the loop as soon it sees 'e'  \n",
    "    # or 's' \n",
    "    if letter == 'e' or letter == 's': \n",
    "         break\n",
    "  \n",
    "print 'Current Letter :', letter "
   ]
  }
 ],
 "metadata": {
  "kernelspec": {
   "display_name": "Python 3",
   "language": "python",
   "name": "python3"
  },
  "language_info": {
   "codemirror_mode": {
    "name": "ipython",
    "version": 3
   },
   "file_extension": ".py",
   "mimetype": "text/x-python",
   "name": "python",
   "nbconvert_exporter": "python",
   "pygments_lexer": "ipython3",
   "version": "3.7.4"
  }
 },
 "nbformat": 4,
 "nbformat_minor": 2
}
